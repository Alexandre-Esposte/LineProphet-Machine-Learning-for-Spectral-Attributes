{
 "cells": [
  {
   "cell_type": "code",
   "execution_count": 1,
   "metadata": {},
   "outputs": [
    {
     "name": "stderr",
     "output_type": "stream",
     "text": [
      "2024-08-24 21:53:26.881253: I tensorflow/core/platform/cpu_feature_guard.cc:210] This TensorFlow binary is optimized to use available CPU instructions in performance-critical operations.\n",
      "To enable the following instructions: AVX2 FMA, in other operations, rebuild TensorFlow with the appropriate compiler flags.\n",
      "2024-08-24 21:53:28.018254: W tensorflow/compiler/tf2tensorrt/utils/py_utils.cc:38] TF-TRT Warning: Could not find TensorRT\n"
     ]
    }
   ],
   "source": [
    "import numpy as np\n",
    "from scipy.signal import find_peaks\n",
    "\n",
    "import plotly.express as px\n",
    "import seaborn as sns\n",
    "import matplotlib.pyplot as plt\n",
    "import pandas as pd\n",
    "import tensorflow as tf\n",
    "import spectral_lines_sampling as sl"
   ]
  },
  {
   "cell_type": "code",
   "execution_count": 2,
   "metadata": {},
   "outputs": [],
   "source": [
    "spec = np.loadtxt('hfgauss.txt')\n",
    "\n",
    "x = spec[:,0]\n",
    "y = spec[:,1]\n",
    "\n",
    "spec = pd.DataFrame(spec, columns=['wavenumber','intensity'])\n",
    "\n",
    "y = y + np.random.normal(0,0,len(y))\n",
    "\n",
    "spec = pd.DataFrame({'wavenumber':x, 'intensity': y})"
   ]
  },
  {
   "cell_type": "code",
   "execution_count": 3,
   "metadata": {},
   "outputs": [
    {
     "data": {
      "text/plain": [
       "<matplotlib.collections.PathCollection at 0x7d6038b90700>"
      ]
     },
     "execution_count": 3,
     "metadata": {},
     "output_type": "execute_result"
    },
    {
     "data": {
      "image/png": "[encoded data removed]",
      "text/plain": [
       "<Figure size 1200x800 with 1 Axes>"
      ]
     },
     "metadata": {},
     "output_type": "display_data"
    }
   ],
   "source": [
    "peaks, _ = find_peaks(y,height=0,prominence=1e-6)\n",
    "# Criando o gráfico interativo\n",
    "#fig = px.line(x=x, y=y, labels={'x': 'Número de onda', 'y': 'Intensidade'}, title=\"Espectro com picos detectados\")\n",
    "##\n",
    "## Adicionando os picos como pontos\n",
    "#fig.add_scatter(x=x[peaks], y=y[peaks], mode='markers', marker=dict(color='red', size=6), name='Picos')\n",
    "##\n",
    "## Exibindo o gráfico interativo\n",
    "#fig.show()\n",
    "\n",
    "\n",
    "plt.figure(figsize=(12,8))\n",
    "plt.plot(x,y)\n",
    "plt.scatter(x = x[peaks], y = y[peaks])"
   ]
  },
  {
   "cell_type": "code",
   "execution_count": 4,
   "metadata": {},
   "outputs": [],
   "source": [
    "#centros = x[peaks]\n",
    "#intensidades = y[peaks]\n",
    "#\n",
    "#\n",
    "#indice_linha = 2\n",
    "#line = sl.separa_pontos_manual(centro = centros[indice_linha], linha= intensidades[indice_linha], spec_mensurado= pd.DataFrame(spec, columns=['wavenumber','intensity']))\n",
    "#\n",
    "#x_sample = line['ex']\n",
    "#y_sample = line['ey']\n",
    "#\n",
    "#_, result , _= sl.fit_raia(data = y_sample, ex = x_sample, chute_centro = centros[indice_linha])\n",
    "#\n",
    "#x_sample,y_sample = sl.interpolar(x_sample,y_sample)\n",
    "#\n",
    "## Criando o gráfico interativo\n",
    "#fig = px.line(x=x, y=y, labels={'x': 'Número de onda', 'y': 'Intensidade'}, title=\"Espectro com picos detectados\")\n",
    "#\n",
    "## Adicionando os picos como pontos\n",
    "#fig.add_scatter(x=x_sample, y=y_sample,mode='markers', marker=dict(color='red', size=6), name='Picos')\n",
    "#\n",
    "## Exibindo o gráfico interativo\n",
    "#fig.show()"
   ]
  },
  {
   "cell_type": "code",
   "execution_count": 5,
   "metadata": {},
   "outputs": [],
   "source": [
    "modelo = tf.keras.models.load_model('../NN_modeling/(0.1.4)modelo.keras')"
   ]
  },
  {
   "cell_type": "code",
   "execution_count": 6,
   "metadata": {},
   "outputs": [
    {
     "name": "stdout",
     "output_type": "stream",
     "text": [
      "Sucesso ajuste: True\n",
      "Perfil: Gauss\n",
      "Sigma Predito: 0.0015491917729377747 / Sigma real: 0.008586368828616742 -> Diferença: 0.007037177055678967\n",
      "Gamma Predito: 0.0 / Gamma real: 4.424554803206249e-06 -> Diferença: 4.424554803206249e-06\n",
      "----------------------------------------------------------------------------------------------------\n",
      "Sucesso ajuste: True\n",
      "Perfil: Gauss\n",
      "Sigma Predito: 0.021245352923870087 / Sigma real: 0.00865420592735977 -> Diferença: 0.012591146996510316\n",
      "Gamma Predito: 0.0 / Gamma real: 1.1177550730989694e-05 -> Diferença: 1.1177550730989694e-05\n",
      "----------------------------------------------------------------------------------------------------\n",
      "Sucesso ajuste: True\n",
      "Perfil: Gauss\n",
      "Sigma Predito: 0.01997380703687668 / Sigma real: 0.008723156213874539 -> Diferença: 0.01125065082300214\n",
      "Gamma Predito: 0.0 / Gamma real: 9.676343088127481e-06 -> Diferença: 9.676343088127481e-06\n",
      "----------------------------------------------------------------------------------------------------\n",
      "Sucesso ajuste: True\n",
      "Perfil: Gauss\n",
      "Sigma Predito: 0.03231395035982132 / Sigma real: 0.008792157196855666 -> Diferença: 0.023521793162965654\n",
      "Gamma Predito: 0.0 / Gamma real: 2.5703095434259637e-06 -> Diferença: 2.5703095434259637e-06\n",
      "----------------------------------------------------------------------------------------------------\n",
      "Sucesso ajuste: True\n",
      "Perfil: Gauss\n",
      "Sigma Predito: 0.03267156332731247 / Sigma real: 0.008852541804865721 -> Diferença: 0.02381902152244675\n",
      "Gamma Predito: 0.0 / Gamma real: 5.144169072934801e-06 -> Diferença: 5.144169072934801e-06\n",
      "----------------------------------------------------------------------------------------------------\n",
      "Sucesso ajuste: True\n",
      "Perfil: Gauss\n",
      "Sigma Predito: 0.033650629222393036 / Sigma real: 0.008913144505347192 -> Diferença: 0.024737484717045843\n",
      "Gamma Predito: 0.0 / Gamma real: 1.374573679102653e-06 -> Diferença: 1.374573679102653e-06\n",
      "----------------------------------------------------------------------------------------------------\n",
      "Sucesso ajuste: True\n",
      "Perfil: Gauss\n",
      "Sigma Predito: 0.03613949567079544 / Sigma real: 0.008968515378094954 -> Diferença: 0.027170980292700486\n",
      "Gamma Predito: 0.0 / Gamma real: 9.908241640488313e-07 -> Diferença: 9.908241640488313e-07\n",
      "----------------------------------------------------------------------------------------------------\n",
      "Sucesso ajuste: True\n",
      "Perfil: Gauss\n",
      "Sigma Predito: 0.034581027925014496 / Sigma real: 0.009017759111521695 -> Diferença: 0.0255632688134928\n",
      "Gamma Predito: 0.0 / Gamma real: 5.234340995974307e-06 -> Diferença: 5.234340995974307e-06\n",
      "----------------------------------------------------------------------------------------------------\n",
      "Sucesso ajuste: True\n",
      "Perfil: Gauss\n",
      "Sigma Predito: 0.03558572381734848 / Sigma real: 0.009108324367305132 -> Diferença: 0.02647739945004335\n",
      "Gamma Predito: 0.0 / Gamma real: 9.628762142943614e-06 -> Diferença: 9.628762142943614e-06\n",
      "----------------------------------------------------------------------------------------------------\n",
      "Sucesso ajuste: True\n",
      "Perfil: Gauss\n",
      "Sigma Predito: 0.036083661019802094 / Sigma real: 0.009154298920976967 -> Diferença: 0.026929362098825127\n",
      "Gamma Predito: 0.0 / Gamma real: 3.1627073449058685e-07 -> Diferença: 3.1627073449058685e-07\n",
      "----------------------------------------------------------------------------------------------------\n",
      "Sucesso ajuste: True\n",
      "Perfil: Gauss\n",
      "Sigma Predito: 0.036320917308330536 / Sigma real: 0.009191634245359293 -> Diferença: 0.027129283062971243\n",
      "Gamma Predito: 0.0 / Gamma real: 3.442166107703315e-09 -> Diferença: 3.442166107703315e-09\n",
      "----------------------------------------------------------------------------------------------------\n",
      "Sucesso ajuste: True\n",
      "Perfil: Gauss\n",
      "Sigma Predito: 0.034455426037311554 / Sigma real: 0.009224806004902053 -> Diferença: 0.0252306200324095\n",
      "Gamma Predito: 0.0 / Gamma real: 2.4480778959556915e-08 -> Diferença: 2.4480778959556915e-08\n",
      "----------------------------------------------------------------------------------------------------\n",
      "Sucesso ajuste: True\n",
      "Perfil: Gauss\n",
      "Sigma Predito: 0.03452493995428085 / Sigma real: 0.009253696535048483 -> Diferença: 0.02527124341923237\n",
      "Gamma Predito: 0.0 / Gamma real: 1.1230072582968376e-06 -> Diferença: 1.1230072582968376e-06\n",
      "----------------------------------------------------------------------------------------------------\n",
      "Sucesso ajuste: True\n",
      "Perfil: Gauss\n",
      "Sigma Predito: 0.031103871762752533 / Sigma real: 0.009277730916374516 -> Diferença: 0.021826140846378017\n",
      "Gamma Predito: 0.0 / Gamma real: 4.20096266262604e-06 -> Diferença: 4.20096266262604e-06\n",
      "----------------------------------------------------------------------------------------------------\n",
      "Sucesso ajuste: True\n",
      "Perfil: Gauss\n",
      "Sigma Predito: 0.022924192249774933 / Sigma real: 0.009297982183426479 -> Diferença: 0.013626210066348454\n",
      "Gamma Predito: 0.0 / Gamma real: 7.467982083619873e-06 -> Diferença: 7.467982083619873e-06\n",
      "----------------------------------------------------------------------------------------------------\n",
      "Sucesso ajuste: True\n",
      "Perfil: Gauss\n",
      "Sigma Predito: 0.02229701727628708 / Sigma real: 0.009318270612652224 -> Diferença: 0.012978746663634855\n",
      "Gamma Predito: 0.0 / Gamma real: 3.756038580382537e-06 -> Diferença: 3.756038580382537e-06\n",
      "----------------------------------------------------------------------------------------------------\n",
      "Sucesso ajuste: True\n",
      "Perfil: Gauss\n",
      "Sigma Predito: 0.0 / Sigma real: 0.009329906525294973 -> Diferença: 0.009329906525294973\n",
      "Gamma Predito: 0.0 / Gamma real: 8.655704062388025e-06 -> Diferença: 8.655704062388025e-06\n",
      "----------------------------------------------------------------------------------------------------\n"
     ]
    }
   ],
   "source": [
    "centros = x[peaks]\n",
    "intensidades = y[peaks]\n",
    "p = []\n",
    "for i, centro in enumerate(centros):\n",
    "\n",
    "    line = sl.separa_pontos_manual(centro = centros[i], linha= intensidades[i], spec_mensurado= pd.DataFrame(spec, columns=['wavenumber','intensity']))\n",
    "\n",
    "    x_sample = line['ex']\n",
    "    y_sample = line['ey']\n",
    "\n",
    "    _, result , _= sl.fit_raia(data = y_sample, ex = x_sample, chute_centro = centros[i])\n",
    "\n",
    "    x_sample,y_sample = sl.interpolar(x_sample,y_sample)\n",
    "\n",
    "    primeira_derivada = sl.derivar(x_sample, y_sample)\n",
    "    segunda_derivada  = sl.derivar(x_sample, primeira_derivada)\n",
    "    \n",
    "    primeira_derivada = np.array(primeira_derivada)\n",
    "    segunda_derivada  = np.array(segunda_derivada)\n",
    "    \n",
    "    statistics = sl.statistics_calculus(x_sample,y_sample)\n",
    "    stats = list(statistics.values())\n",
    "    y_sample = y_sample.reshape(50,1)\n",
    "    primeira_derivada = primeira_derivada.reshape(50,1)\n",
    "    segunda_derivada = segunda_derivada.reshape(50,1)\n",
    "    \n",
    "    X = np.concatenate([y_sample,primeira_derivada,segunda_derivada],axis=1).reshape(50,3)\n",
    "    \n",
    "    X = tf.convert_to_tensor(X)\n",
    "    stats = tf.convert_to_tensor(stats)\n",
    "    stats = tf.expand_dims(stats,0)\n",
    "    X = tf.expand_dims(X,0)\n",
    "\n",
    "    predito = modelo.predict([X,stats],verbose = 3)\n",
    "\n",
    "    perfil_i = np.argmax(predito[0])\n",
    "\n",
    "    if perfil_i == 0 :\n",
    "        perfil = 'Gauss'\n",
    "    elif perfil_i == 1:\n",
    "        perfil = 'Lorentz'\n",
    "    else:\n",
    "        perfil = 'Voigt'\n",
    "\n",
    "    p.append(perfil_i)\n",
    "    sreal = result.params[\"sigma\"].value\n",
    "    greal = result.params[\"gamma\"].value\n",
    "    sigma = predito[1][0][0]\n",
    "    gamma = predito[2][0][0]\n",
    "    print(f'Perfil: {perfil}\\nSigma Predito: {sigma} / Sigma real: {sreal} -> Diferença: {np.abs(sreal-sigma)}\\nGamma Predito: {gamma} / Gamma real: {greal} -> Diferença: {np.abs(greal-gamma)}' )\n",
    "    print('-'*100)\n"
   ]
  },
  {
   "cell_type": "code",
   "execution_count": 7,
   "metadata": {},
   "outputs": [
    {
     "data": {
      "text/plain": [
       "<AxesSubplot: ylabel='count'>"
      ]
     },
     "execution_count": 7,
     "metadata": {},
     "output_type": "execute_result"
    },
    {
     "data": {
      "image/png": "[encoded data removed]",
      "text/plain": [
       "<Figure size 640x480 with 1 Axes>"
      ]
     },
     "metadata": {},
     "output_type": "display_data"
    }
   ],
   "source": [
    "sns.countplot(x=p)"
   ]
  },
  {
   "cell_type": "code",
   "execution_count": 8,
   "metadata": {},
   "outputs": [
    {
     "data": {
      "text/html": [
       "<h2>Fit Result</h2> <p>Model: Model(voigt)</p> <table class=\"jp-toc-ignore\"><caption class=\"jp-toc-ignore\">Fit Statistics</caption><tr><td style='text-align:left'>fitting method</td><td style='text-align:right'>leastsq</td></tr><tr><td style='text-align:left'># function evals</td><td style='text-align:right'>167</td></tr><tr><td style='text-align:left'># data points</td><td style='text-align:right'>42</td></tr><tr><td style='text-align:left'># variables</td><td style='text-align:right'>4</td></tr><tr><td style='text-align:left'>chi-square</td><td style='text-align:right'> 1.5255e-18</td></tr><tr><td style='text-align:left'>reduced chi-square</td><td style='text-align:right'> 4.0145e-20</td></tr><tr><td style='text-align:left'>Akaike info crit.</td><td style='text-align:right'>-1871.99878</td></tr><tr><td style='text-align:left'>Bayesian info crit.</td><td style='text-align:right'>-1865.04810</td></tr><tr><td style='text-align:left'>R-squared</td><td style='text-align:right'> 0.99999996</td></tr></table><table class=\"jp-toc-ignore\"><caption>Parameters</caption><tr><th style='text-align:left'>name</th><th style='text-align:left'>value</th><th style='text-align:left'>standard error</th><th style='text-align:left'>relative error</th><th style='text-align:left'>initial value</th><th style='text-align:left'>min</th><th style='text-align:left'>max</th><th style='text-align:left'>vary</th><th style='text-align:right'>expression</th></tr><tr><td style='text-align:left'>amplitude</td><td style='text-align:left'> 7.1226e-08</td><td style='text-align:left'> 1.7265e-07</td><td style='text-align:left'>(242.40%)</td><td style='text-align:left'>1</td><td style='text-align:left'> 0.00000000</td><td style='text-align:left'>        inf</td><td style='text-align:left'>True</td><td style='text-align:right'></td></tr><tr><td style='text-align:left'>center</td><td style='text-align:left'> 7978.39748</td><td style='text-align:left'> 0.19342081</td><td style='text-align:left'>(0.00%)</td><td style='text-align:left'>7978.397901</td><td style='text-align:left'>       -inf</td><td style='text-align:left'>        inf</td><td style='text-align:left'>True</td><td style='text-align:right'></td></tr><tr><td style='text-align:left'>sigma</td><td style='text-align:left'> 0.00932991</td><td style='text-align:left'> 1.4466e-06</td><td style='text-align:left'>(0.02%)</td><td style='text-align:left'>0.01</td><td style='text-align:left'> 0.00000000</td><td style='text-align:left'>        inf</td><td style='text-align:left'>True</td><td style='text-align:right'></td></tr><tr><td style='text-align:left'>gamma</td><td style='text-align:left'> 8.6557e-06</td><td style='text-align:left'> 3.0092e-06</td><td style='text-align:left'>(34.77%)</td><td style='text-align:left'>0.01</td><td style='text-align:left'> 0.00000000</td><td style='text-align:left'>        inf</td><td style='text-align:left'>True</td><td style='text-align:right'></td></tr><tr><td style='text-align:left'>fwhm</td><td style='text-align:left'> 0.02197932</td><td style='text-align:left'> 8.3352e-07</td><td style='text-align:left'>(0.00%)</td><td style='text-align:left'>0.03601290638188136</td><td style='text-align:left'>       -inf</td><td style='text-align:left'>        inf</td><td style='text-align:left'>False</td><td style='text-align:right'>1.0692*gamma+sqrt(0.8664*gamma**2+5.545083*sigma**2)</td></tr><tr><td style='text-align:left'>height</td><td style='text-align:left'> 3.0433e-06</td><td style='text-align:left'> 7.3772e-06</td><td style='text-align:left'>(242.41%)</td><td style='text-align:left'>20.870928052036774</td><td style='text-align:left'>       -inf</td><td style='text-align:left'>        inf</td><td style='text-align:left'>False</td><td style='text-align:right'>(amplitude/(max(1e-15, sigma*sqrt(2*pi))))*real(wofz((1j*gamma)/(max(1e-15, sigma*sqrt(2)))))</td></tr></table><table class=\"jp-toc-ignore\"><caption>Correlations (unreported values are < 0.100)</caption><tr><th style='text-align:left'>Parameter1</th><th style='text-align:left'>Parameter 2</th><th style='text-align:right'>Correlation</th></tr><tr><td style='text-align:left'>amplitude</td><td style='text-align:left'>center</td><td style='text-align:right'>+1.0000</td></tr><tr><td style='text-align:left'>sigma</td><td style='text-align:left'>gamma</td><td style='text-align:right'>-0.9699</td></tr><tr><td style='text-align:left'>center</td><td style='text-align:left'>gamma</td><td style='text-align:right'>-0.6272</td></tr><tr><td style='text-align:left'>amplitude</td><td style='text-align:left'>gamma</td><td style='text-align:right'>-0.6272</td></tr><tr><td style='text-align:left'>center</td><td style='text-align:left'>sigma</td><td style='text-align:right'>+0.4643</td></tr><tr><td style='text-align:left'>amplitude</td><td style='text-align:left'>sigma</td><td style='text-align:right'>+0.4643</td></tr></table>"
      ],
      "text/plain": [
       "<lmfit.model.ModelResult at 0x7d5ffc034160>"
      ]
     },
     "execution_count": 8,
     "metadata": {},
     "output_type": "execute_result"
    }
   ],
   "source": [
    "result"
   ]
  }
 ],
 "metadata": {
  "kernelspec": {
   "display_name": "Python 3",
   "language": "python",
   "name": "python3"
  },
  "language_info": {
   "codemirror_mode": {
    "name": "ipython",
    "version": 3
   },
   "file_extension": ".py",
   "mimetype": "text/x-python",
   "name": "python",
   "nbconvert_exporter": "python",
   "pygments_lexer": "ipython3",
   "version": "3.10.12"
  }
 },
 "nbformat": 4,
 "nbformat_minor": 2
}
