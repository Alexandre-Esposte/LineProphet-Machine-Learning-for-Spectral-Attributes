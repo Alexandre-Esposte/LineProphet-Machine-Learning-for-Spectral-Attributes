{
 "cells": [
  {
   "cell_type": "markdown",
   "metadata": {},
   "source": [
    "**Objetivo:** Estudar como as linhas espectrais da molécula de HCl na banda 2-0 se alargam em função da temperatura.\n",
    "\n",
    "\n",
    " **1.** Verificar se os espectros simulados pelo Hitran provê os mesmos coeficientes de auto-alargamento em função da pressão estudados durante a graduação.\n",
    "\n",
    " **2.** Simular espectros com as mesmas pressões, mas em temperaturas diferentes e verificar o que acontece com os coeficientes de auto-alargamento em cada temperatura\n",
    " \n",
    " **3.** Fixar uma pressão e verificar como esse coeficiente varia somente na temperatura.\n",
    "\n",
    " **4.** Estudar uma maneira de determinar a dependência entre pressão e temperatura.\n",
    "\n",
    " **5.** Modelar matematicamente em termos de temperatura e pressão\n",
    "\n",
    " **6.** Validar esse modelo em dados reais\n",
    "\n",
    " **7.** Desenvolver modelos de Machine Learning para processamento de espectros "
   ]
  },
  {
   "cell_type": "markdown",
   "metadata": {},
   "source": [
    "# Importando pacotes"
   ]
  },
  {
   "cell_type": "code",
   "execution_count": 1,
   "metadata": {},
   "outputs": [],
   "source": [
    "import sys\n",
    "sys.path.append(\"../src\")\n",
    "\n",
    "import pandas as pd\n",
    "import matplotlib.pyplot as plt\n",
    "import matplotlib as mpl\n",
    "import seaborn as sns\n",
    "import plotly.express as px\n",
    "\n",
    "from BroadeningProcessing import broadeningprocessing\n",
    "\n",
    "\n",
    "\n",
    "\n",
    "mpl.rcParams['axes.spines.right'] = False\n",
    "mpl.rcParams['axes.spines.top'] = False\n",
    "mpl.rcParams['figure.figsize'] = (12,6)"
   ]
  },
  {
   "cell_type": "markdown",
   "metadata": {},
   "source": [
    "# Simulando e processando espectros"
   ]
  },
  {
   "cell_type": "markdown",
   "metadata": {},
   "source": [
    "Uma banda espectral é formada por linhas/raias espectrais, essas linhas são provenientes das transições de energias rotacionais em uma molécula. Essas transições podem ser categorizadas por Ramas denominadas por rama R, rama P ou  rama Q. No caso da banda 2-0 do HCl, temos somente as Ramas R e P. Cada linha, além da categorização da rama, tem também um valor de J associado, para o HCl temos:\n",
    "\n",
    "R = 0, 1, 2, 3, 4...\n",
    "\n",
    "P = 1, 2, 3, 4...\n",
    "\n",
    "Além do valor de J, podemos introduzir uma outra variável denotada por m, onde\n",
    "\n",
    "m = -J, se for rama P,\n",
    "\n",
    "m = J + 1, se for rama R\n",
    "\n",
    "Ao simularmos um espectro, é necessário aplicarmos um pré-processamento para organizarmos os dados obtidos, visamos nessa parte categorizar as transições (R/P) e definir seus valores de J e m. \n",
    "\n",
    "Após a organização das linhas, precisaremos obter os coeficientes de auto-alargamento, e para isso será necessário obter a largura de cada raia espectral. Esse parâmetro será obtido mediante o ajuste não linear de cada linha espectral pelo perfil de Voigt. No meu tcc eu demonstrei que o perfil de Voigt é o melhor perfil que se ajusta nas linhas do HCl, além disso, o perfil de Voigt é um grande coringa, pois leva em consideração os efeitos simultâneos de colisão e efeito doppler.\n",
    "\n",
    "**Tarefas:**\n",
    "\n",
    "**1.** Identificar as raias espectrais\n",
    "\n",
    "**2.** Categorizar as linhas em rama P ou rama R\n",
    "\n",
    "**3.** Indicar a numeração de cada linha referente  a sua rama\n",
    "\n",
    "**4.** Separar a raia do espectro.\n",
    "\n",
    "**5.** Ajustar a linha utilizando o perfil de Voigt.\n",
    "\n",
    "**6.** Armazenar todos os parâmetros obtidos do ajuste em um dataset.\n",
    "\n",
    "**7.** Fazer isso para espectros em diferentes pressões e temperaturas.\n",
    "\n",
    "\n",
    "obs: As simulações dos espectros, atribuição de raias e ajuste das linhas para obtenção de parâmetros foi feito através do script /src/main.py e se encontra no diretório /database"
   ]
  },
  {
   "cell_type": "markdown",
   "metadata": {},
   "source": [
    "# Carregando dataset com os parâmetros de cada linha"
   ]
  },
  {
   "cell_type": "code",
   "execution_count": 2,
   "metadata": {},
   "outputs": [],
   "source": [
    "lines35 = pd.read_csv('../database/lines_h35cl.csv')"
   ]
  },
  {
   "cell_type": "markdown",
   "metadata": {},
   "source": [
    "# Breve EDA $$H^{35}Cl$$"
   ]
  },
  {
   "cell_type": "code",
   "execution_count": 3,
   "metadata": {},
   "outputs": [
    {
     "data": {
      "text/html": [
       "<div>\n",
       "<style scoped>\n",
       "    .dataframe tbody tr th:only-of-type {\n",
       "        vertical-align: middle;\n",
       "    }\n",
       "\n",
       "    .dataframe tbody tr th {\n",
       "        vertical-align: top;\n",
       "    }\n",
       "\n",
       "    .dataframe thead th {\n",
       "        text-align: right;\n",
       "    }\n",
       "</style>\n",
       "<table border=\"1\" class=\"dataframe\">\n",
       "  <thead>\n",
       "    <tr style=\"text-align: right;\">\n",
       "      <th></th>\n",
       "      <th>wavenumber</th>\n",
       "      <th>absorption</th>\n",
       "      <th>branch</th>\n",
       "      <th>j</th>\n",
       "      <th>m</th>\n",
       "      <th>pressure</th>\n",
       "      <th>temperature</th>\n",
       "      <th>evals</th>\n",
       "      <th>npoints</th>\n",
       "      <th>r2</th>\n",
       "      <th>...</th>\n",
       "      <th>center</th>\n",
       "      <th>center_std</th>\n",
       "      <th>sigma</th>\n",
       "      <th>sigma_stderr</th>\n",
       "      <th>gamma</th>\n",
       "      <th>gamma_stderr</th>\n",
       "      <th>fwhm</th>\n",
       "      <th>fwhm_stderr</th>\n",
       "      <th>height</th>\n",
       "      <th>height_stderr</th>\n",
       "    </tr>\n",
       "  </thead>\n",
       "  <tbody>\n",
       "    <tr>\n",
       "      <th>0</th>\n",
       "      <td>5341.321654</td>\n",
       "      <td>0.021477</td>\n",
       "      <td>P</td>\n",
       "      <td>12</td>\n",
       "      <td>-12</td>\n",
       "      <td>0.1</td>\n",
       "      <td>293</td>\n",
       "      <td>26</td>\n",
       "      <td>174</td>\n",
       "      <td>0.999943</td>\n",
       "      <td>...</td>\n",
       "      <td>5341.321431</td>\n",
       "      <td>0.000028</td>\n",
       "      <td>0.004666</td>\n",
       "      <td>0.000030</td>\n",
       "      <td>0.007768</td>\n",
       "      <td>0.000028</td>\n",
       "      <td>0.021459</td>\n",
       "      <td>0.000025</td>\n",
       "      <td>0.021489</td>\n",
       "      <td>0.000018</td>\n",
       "    </tr>\n",
       "    <tr>\n",
       "      <th>1</th>\n",
       "      <td>5374.629654</td>\n",
       "      <td>0.058924</td>\n",
       "      <td>P</td>\n",
       "      <td>11</td>\n",
       "      <td>-11</td>\n",
       "      <td>0.1</td>\n",
       "      <td>293</td>\n",
       "      <td>26</td>\n",
       "      <td>196</td>\n",
       "      <td>0.999978</td>\n",
       "      <td>...</td>\n",
       "      <td>5374.629236</td>\n",
       "      <td>0.000017</td>\n",
       "      <td>0.004715</td>\n",
       "      <td>0.000021</td>\n",
       "      <td>0.008873</td>\n",
       "      <td>0.000018</td>\n",
       "      <td>0.023326</td>\n",
       "      <td>0.000016</td>\n",
       "      <td>0.059008</td>\n",
       "      <td>0.000030</td>\n",
       "    </tr>\n",
       "    <tr>\n",
       "      <th>2</th>\n",
       "      <td>5406.878654</td>\n",
       "      <td>0.145307</td>\n",
       "      <td>P</td>\n",
       "      <td>10</td>\n",
       "      <td>-10</td>\n",
       "      <td>0.1</td>\n",
       "      <td>293</td>\n",
       "      <td>26</td>\n",
       "      <td>215</td>\n",
       "      <td>0.999999</td>\n",
       "      <td>...</td>\n",
       "      <td>5406.878675</td>\n",
       "      <td>0.000004</td>\n",
       "      <td>0.004853</td>\n",
       "      <td>0.000005</td>\n",
       "      <td>0.009851</td>\n",
       "      <td>0.000005</td>\n",
       "      <td>0.025185</td>\n",
       "      <td>0.000004</td>\n",
       "      <td>0.145461</td>\n",
       "      <td>0.000017</td>\n",
       "    </tr>\n",
       "    <tr>\n",
       "      <th>3</th>\n",
       "      <td>5438.054654</td>\n",
       "      <td>0.292102</td>\n",
       "      <td>P</td>\n",
       "      <td>9</td>\n",
       "      <td>-9</td>\n",
       "      <td>0.1</td>\n",
       "      <td>293</td>\n",
       "      <td>25</td>\n",
       "      <td>256</td>\n",
       "      <td>0.998387</td>\n",
       "      <td>...</td>\n",
       "      <td>5438.054990</td>\n",
       "      <td>0.000139</td>\n",
       "      <td>0.000497</td>\n",
       "      <td>0.001781</td>\n",
       "      <td>0.013626</td>\n",
       "      <td>0.000153</td>\n",
       "      <td>0.027306</td>\n",
       "      <td>0.000166</td>\n",
       "      <td>0.296537</td>\n",
       "      <td>0.001258</td>\n",
       "    </tr>\n",
       "    <tr>\n",
       "      <th>4</th>\n",
       "      <td>5468.143654</td>\n",
       "      <td>0.495202</td>\n",
       "      <td>P</td>\n",
       "      <td>8</td>\n",
       "      <td>-8</td>\n",
       "      <td>0.1</td>\n",
       "      <td>293</td>\n",
       "      <td>71</td>\n",
       "      <td>313</td>\n",
       "      <td>0.999986</td>\n",
       "      <td>...</td>\n",
       "      <td>5468.143795</td>\n",
       "      <td>0.000013</td>\n",
       "      <td>0.005666</td>\n",
       "      <td>0.000024</td>\n",
       "      <td>0.014590</td>\n",
       "      <td>0.000018</td>\n",
       "      <td>0.034638</td>\n",
       "      <td>0.000016</td>\n",
       "      <td>0.497153</td>\n",
       "      <td>0.000166</td>\n",
       "    </tr>\n",
       "  </tbody>\n",
       "</table>\n",
       "<p>5 rows × 22 columns</p>\n",
       "</div>"
      ],
      "text/plain": [
       "    wavenumber  absorption branch   j   m  pressure  temperature  evals  \\\n",
       "0  5341.321654    0.021477      P  12 -12       0.1          293     26   \n",
       "1  5374.629654    0.058924      P  11 -11       0.1          293     26   \n",
       "2  5406.878654    0.145307      P  10 -10       0.1          293     26   \n",
       "3  5438.054654    0.292102      P   9  -9       0.1          293     25   \n",
       "4  5468.143654    0.495202      P   8  -8       0.1          293     71   \n",
       "\n",
       "   npoints        r2  ...       center  center_std     sigma  sigma_stderr  \\\n",
       "0      174  0.999943  ...  5341.321431    0.000028  0.004666      0.000030   \n",
       "1      196  0.999978  ...  5374.629236    0.000017  0.004715      0.000021   \n",
       "2      215  0.999999  ...  5406.878675    0.000004  0.004853      0.000005   \n",
       "3      256  0.998387  ...  5438.054990    0.000139  0.000497      0.001781   \n",
       "4      313  0.999986  ...  5468.143795    0.000013  0.005666      0.000024   \n",
       "\n",
       "      gamma  gamma_stderr      fwhm  fwhm_stderr    height  height_stderr  \n",
       "0  0.007768      0.000028  0.021459     0.000025  0.021489       0.000018  \n",
       "1  0.008873      0.000018  0.023326     0.000016  0.059008       0.000030  \n",
       "2  0.009851      0.000005  0.025185     0.000004  0.145461       0.000017  \n",
       "3  0.013626      0.000153  0.027306     0.000166  0.296537       0.001258  \n",
       "4  0.014590      0.000018  0.034638     0.000016  0.497153       0.000166  \n",
       "\n",
       "[5 rows x 22 columns]"
      ]
     },
     "execution_count": 3,
     "metadata": {},
     "output_type": "execute_result"
    }
   ],
   "source": [
    "lines35.head()"
   ]
  },
  {
   "cell_type": "code",
   "execution_count": 4,
   "metadata": {},
   "outputs": [
    {
     "data": {
      "text/plain": [
       "wavenumber          0\n",
       "absorption          0\n",
       "branch              0\n",
       "j                   0\n",
       "m                   0\n",
       "pressure            0\n",
       "temperature         0\n",
       "evals               0\n",
       "npoints             0\n",
       "r2                  0\n",
       "amplitude           0\n",
       "amplitude_stderr    0\n",
       "center              0\n",
       "center_std          0\n",
       "sigma               0\n",
       "sigma_stderr        0\n",
       "gamma               0\n",
       "gamma_stderr        0\n",
       "fwhm                0\n",
       "fwhm_stderr         0\n",
       "height              0\n",
       "height_stderr       0\n",
       "dtype: int64"
      ]
     },
     "execution_count": 4,
     "metadata": {},
     "output_type": "execute_result"
    }
   ],
   "source": [
    "# sem valores nulos\n",
    "lines35.isna().sum()"
   ]
  },
  {
   "cell_type": "code",
   "execution_count": 5,
   "metadata": {},
   "outputs": [
    {
     "data": {
      "text/plain": [
       "np.int64(0)"
      ]
     },
     "execution_count": 5,
     "metadata": {},
     "output_type": "execute_result"
    }
   ],
   "source": [
    "# sem valores duplicados\n",
    "lines35.duplicated().sum()"
   ]
  },
  {
   "cell_type": "code",
   "execution_count": 6,
   "metadata": {},
   "outputs": [
    {
     "name": "stdout",
     "output_type": "stream",
     "text": [
      " 921 linhas foram ajustadas com 23 parâmetros obtidos, são eles:\n",
      "\n",
      "0 - wavenumber\n",
      "1 - absorption\n",
      "2 - branch\n",
      "3 - j\n",
      "4 - m\n",
      "5 - pressure\n",
      "6 - temperature\n",
      "7 - evals\n",
      "8 - npoints\n",
      "9 - r2\n",
      "10 - amplitude\n",
      "11 - amplitude_stderr\n",
      "12 - center\n",
      "13 - center_std\n",
      "14 - sigma\n",
      "15 - sigma_stderr\n",
      "16 - gamma\n",
      "17 - gamma_stderr\n",
      "18 - fwhm\n",
      "19 - fwhm_stderr\n",
      "20 - height\n",
      "21 - height_stderr\n",
      "22 - hwhm\n"
     ]
    }
   ],
   "source": [
    "# Em muitos trabalhos utiliza-se a meia largura à meia altura (hwhm) ao invés da largura total à meia altura (fhwm)\n",
    "# hwhm = fwhm/2\n",
    "\n",
    "lines35['hwhm'] = lines35['fwhm'] / 2 \n",
    "\n",
    "\n",
    "print(f\" {lines35.shape[0]} linhas foram ajustadas com {lines35.shape[1]} parâmetros obtidos, são eles:\\n\")\n",
    "for index, param in enumerate(lines35.columns):\n",
    "    print(f\"{index} - {param}\")"
   ]
  },
  {
   "cell_type": "code",
   "execution_count": 7,
   "metadata": {},
   "outputs": [
    {
     "data": {
      "text/html": [
       "<div>\n",
       "<style scoped>\n",
       "    .dataframe tbody tr th:only-of-type {\n",
       "        vertical-align: middle;\n",
       "    }\n",
       "\n",
       "    .dataframe tbody tr th {\n",
       "        vertical-align: top;\n",
       "    }\n",
       "\n",
       "    .dataframe thead th {\n",
       "        text-align: right;\n",
       "    }\n",
       "</style>\n",
       "<table border=\"1\" class=\"dataframe\">\n",
       "  <thead>\n",
       "    <tr style=\"text-align: right;\">\n",
       "      <th></th>\n",
       "      <th>pressure</th>\n",
       "    </tr>\n",
       "    <tr>\n",
       "      <th>temperature</th>\n",
       "      <th></th>\n",
       "    </tr>\n",
       "  </thead>\n",
       "  <tbody>\n",
       "    <tr>\n",
       "      <th>293</th>\n",
       "      <td>[0.1, 0.2, 0.4, 0.6, 0.8, 1.0]</td>\n",
       "    </tr>\n",
       "    <tr>\n",
       "      <th>295</th>\n",
       "      <td>[0.1, 0.2, 0.4, 0.6, 0.8, 1.0]</td>\n",
       "    </tr>\n",
       "    <tr>\n",
       "      <th>300</th>\n",
       "      <td>[0.1, 0.2, 0.4, 0.6, 0.8, 1.0]</td>\n",
       "    </tr>\n",
       "    <tr>\n",
       "      <th>315</th>\n",
       "      <td>[0.1, 0.2, 0.4, 0.6, 0.8, 1.0]</td>\n",
       "    </tr>\n",
       "    <tr>\n",
       "      <th>350</th>\n",
       "      <td>[0.1, 0.2, 0.4, 0.6, 0.8, 1.0]</td>\n",
       "    </tr>\n",
       "    <tr>\n",
       "      <th>373</th>\n",
       "      <td>[0.1, 0.2, 0.4, 0.6, 0.8, 1.0]</td>\n",
       "    </tr>\n",
       "  </tbody>\n",
       "</table>\n",
       "</div>"
      ],
      "text/plain": [
       "                                   pressure\n",
       "temperature                                \n",
       "293          [0.1, 0.2, 0.4, 0.6, 0.8, 1.0]\n",
       "295          [0.1, 0.2, 0.4, 0.6, 0.8, 1.0]\n",
       "300          [0.1, 0.2, 0.4, 0.6, 0.8, 1.0]\n",
       "315          [0.1, 0.2, 0.4, 0.6, 0.8, 1.0]\n",
       "350          [0.1, 0.2, 0.4, 0.6, 0.8, 1.0]\n",
       "373          [0.1, 0.2, 0.4, 0.6, 0.8, 1.0]"
      ]
     },
     "execution_count": 7,
     "metadata": {},
     "output_type": "execute_result"
    }
   ],
   "source": [
    "# As mesmas pressões foram reproduzidas em diferentes temperaturas \n",
    "\n",
    "lines35.groupby('temperature')['pressure'].unique().to_frame()"
   ]
  },
  {
   "cell_type": "markdown",
   "metadata": {},
   "source": [
    "## **Análise dos ajustes das raias**\n",
    "\n",
    "Objetivo: Quantificar a qualidade dos ajustes das raias espectrais"
   ]
  },
  {
   "cell_type": "code",
   "execution_count": 8,
   "metadata": {},
   "outputs": [
    {
     "data": {
      "text/plain": [
       "count    921.000000\n",
       "mean       0.998691\n",
       "std        0.006258\n",
       "min        0.936117\n",
       "25%        0.999833\n",
       "50%        0.999966\n",
       "75%        0.999997\n",
       "max        1.000000\n",
       "Name: r2, dtype: float64"
      ]
     },
     "execution_count": 8,
     "metadata": {},
     "output_type": "execute_result"
    }
   ],
   "source": [
    "lines35['r2'].describe()"
   ]
  },
  {
   "cell_type": "markdown",
   "metadata": {},
   "source": [
    "**Insight:** \n",
    "\n",
    "Ajustes bons com R² superiores à 0.9. O pior ajuste teve um R² de 0.938 e o melhor ajuste teve o R² máximo. Em mediana tivemos um R² de 0.9999 e 0.9988 em média. \n",
    "\n",
    "25% das linhas tiveram seu R² abaixo de 0.999841.\n",
    "\n",
    "O valor da média é influenciado para baixo devido aos poucos exemplos com R² menores que 0.99.\n",
    "\n",
    "Em suma, os ajustes ficaram muito bons.\n",
    "\n"
   ]
  },
  {
   "cell_type": "markdown",
   "metadata": {},
   "source": [
    "## Análise do alargamento das linhas espectrais"
   ]
  },
  {
   "cell_type": "code",
   "execution_count": 9,
   "metadata": {},
   "outputs": [
    {
     "data": {
      "text/plain": [
       "<Axes: xlabel='hwhm', ylabel='Density'>"
      ]
     },
     "execution_count": 9,
     "metadata": {},
     "output_type": "execute_result"
    },
    {
     "data": {
      "image/png": "[encoded data removed]",
      "text/plain": [
       "<Figure size 1200x600 with 1 Axes>"
      ]
     },
     "metadata": {},
     "output_type": "display_data"
    }
   ],
   "source": [
    "lines35['hwhm'].describe()\n",
    "\n",
    "sns.kdeplot(data = lines35, x='hwhm')"
   ]
  },
  {
   "cell_type": "code",
   "execution_count": 22,
   "metadata": {},
   "outputs": [
    {
     "name": "stdout",
     "output_type": "stream",
     "text": [
      "293\n",
      "295\n",
      "300\n",
      "315\n",
      "350\n",
      "373\n"
     ]
    }
   ],
   "source": [
    "sb = pd.DataFrame()\n",
    "for temperature in lines35['temperature'].unique():\n",
    "    print(temperature)\n",
    "    line_temp_cte = lines35.query(f'temperature == {temperature}')\n",
    "\n",
    "    result = broadeningprocessing.selfBroadeningPressure(line_temp_cte)\n",
    "    sb = pd.concat([sb,result],axis=0)\n"
   ]
  },
  {
   "cell_type": "code",
   "execution_count": 24,
   "metadata": {},
   "outputs": [],
   "source": [
    "sb['half_slope'] = sb['slope'] / 2"
   ]
  },
  {
   "cell_type": "code",
   "execution_count": 37,
   "metadata": {},
   "outputs": [
    {
     "data": {
      "text/plain": [
       "<Axes: xlabel='m', ylabel='half_slope'>"
      ]
     },
     "execution_count": 37,
     "metadata": {},
     "output_type": "execute_result"
    },
    {
     "data": {
      "image/png": "[encoded data removed]",
      "text/plain": [
       "<Figure size 1600x800 with 1 Axes>"
      ]
     },
     "metadata": {},
     "output_type": "display_data"
    }
   ],
   "source": [
    "plt.figure(figsize=(16,8))\n",
    "sns.scatterplot(data = sb, x='m',y='half_slope', hue='temperature', palette= 'tab10', s=50)"
   ]
  },
  {
   "cell_type": "code",
   "execution_count": 40,
   "metadata": {},
   "outputs": [
    {
     "data": {
      "text/plain": [
       "<Axes: xlabel='temperature', ylabel='half_slope'>"
      ]
     },
     "execution_count": 40,
     "metadata": {},
     "output_type": "execute_result"
    },
    {
     "data": {
      "image/png": "[encoded data removed]",
      "text/plain": [
       "<Figure size 1200x600 with 1 Axes>"
      ]
     },
     "metadata": {},
     "output_type": "display_data"
    }
   ],
   "source": [
    "sns.scatterplot(data = sb.query('m == 1'), x='temperature',y='half_slope')"
   ]
  }
 ],
 "metadata": {
  "kernelspec": {
   "display_name": ".venv",
   "language": "python",
   "name": "python3"
  },
  "language_info": {
   "codemirror_mode": {
    "name": "ipython",
    "version": 3
   },
   "file_extension": ".py",
   "mimetype": "text/x-python",
   "name": "python",
   "nbconvert_exporter": "python",
   "pygments_lexer": "ipython3",
   "version": "3.10.12"
  }
 },
 "nbformat": 4,
 "nbformat_minor": 2
}
