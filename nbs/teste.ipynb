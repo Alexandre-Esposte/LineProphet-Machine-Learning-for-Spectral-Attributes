{
 "cells": [
  {
   "cell_type": "code",
   "execution_count": 1,
   "metadata": {},
   "outputs": [],
   "source": [
    "from ModelSchema.NeuralNetWork import dataset, train_and_test, model\n",
    "\n",
    "import os\n",
    "from torch.utils.data import DataLoader\n",
    "import torch\n",
    "from torch import nn\n",
    "import matplotlib.pyplot as plt\n",
    "import numpy as np\n",
    "from torchvision import models\n",
    "from torchinfo import summary\n",
    "\n",
    "\n",
    "test = dataset.SpectraDataset('../database/spectras/test')\n",
    "loader_test = DataLoader(test, batch_size= 1, pin_memory= True, shuffle=True)\n"
   ]
  },
  {
   "cell_type": "code",
   "execution_count": 2,
   "metadata": {},
   "outputs": [],
   "source": [
    "x , y, interferogram  = test[5]"
   ]
  },
  {
   "cell_type": "code",
   "execution_count": 3,
   "metadata": {},
   "outputs": [
    {
     "name": "stderr",
     "output_type": "stream",
     "text": [
      "/home/alexandre/Área de trabalho/LineProphet-Machine-Learning-for-Spectral-Attributes/.venv/lib/python3.12/site-packages/matplotlib/cbook.py:1709: ComplexWarning: Casting complex values to real discards the imaginary part\n",
      "  return math.isfinite(val)\n",
      "/home/alexandre/Área de trabalho/LineProphet-Machine-Learning-for-Spectral-Attributes/.venv/lib/python3.12/site-packages/matplotlib/cbook.py:1345: ComplexWarning: Casting complex values to real discards the imaginary part\n",
      "  return np.asarray(x, float)\n"
     ]
    },
    {
     "data": {
      "text/plain": [
       "[<matplotlib.lines.Line2D at 0x7046be22f1a0>]"
      ]
     },
     "execution_count": 3,
     "metadata": {},
     "output_type": "execute_result"
    },
    {
     "data": {
      "image/png": "[encoded data removed]",
      "text/plain": [
       "<Figure size 640x480 with 1 Axes>"
      ]
     },
     "metadata": {},
     "output_type": "display_data"
    }
   ],
   "source": [
    "plt.plot(interferogram)"
   ]
  },
  {
   "cell_type": "code",
   "execution_count": 5,
   "metadata": {},
   "outputs": [
    {
     "data": {
      "text/plain": [
       "<matplotlib.image.AxesImage at 0x7046be2cd4c0>"
      ]
     },
     "execution_count": 5,
     "metadata": {},
     "output_type": "execute_result"
    },
    {
     "data": {
      "image/png": "[encoded data removed]",
      "text/plain": [
       "<Figure size 640x480 with 1 Axes>"
      ]
     },
     "metadata": {},
     "output_type": "display_data"
    }
   ],
   "source": [
    "plt.imshow(x.squeeze(0))"
   ]
  },
  {
   "cell_type": "code",
   "execution_count": 14,
   "metadata": {},
   "outputs": [],
   "source": [
    "model = models.get_model('mobilenet_v2',weights = 'MobileNet_V2_Weights.IMAGENET1K_V2')"
   ]
  },
  {
   "cell_type": "code",
   "execution_count": 16,
   "metadata": {},
   "outputs": [
    {
     "ename": "AttributeError",
     "evalue": "'MobileNetV2' object has no attribute 'ConvolutionalNet'",
     "output_type": "error",
     "traceback": [
      "\u001b[0;31m---------------------------------------------------------------------------\u001b[0m",
      "\u001b[0;31mAttributeError\u001b[0m                            Traceback (most recent call last)",
      "Cell \u001b[0;32mIn[16], line 1\u001b[0m\n\u001b[0;32m----> 1\u001b[0m model \u001b[38;5;241m=\u001b[39m \u001b[43mmodel\u001b[49m\u001b[38;5;241;43m.\u001b[39;49m\u001b[43mConvolutionalNet\u001b[49m()\n",
      "File \u001b[0;32m~/Área de Trabalho/MESTRADO/dissertacao/LineProphet-Machine-Learning-for-Spectral-Attributes/.venv/lib/python3.10/site-packages/torch/nn/modules/module.py:1931\u001b[0m, in \u001b[0;36mModule.__getattr__\u001b[0;34m(self, name)\u001b[0m\n\u001b[1;32m   1929\u001b[0m     \u001b[38;5;28;01mif\u001b[39;00m name \u001b[38;5;129;01min\u001b[39;00m modules:\n\u001b[1;32m   1930\u001b[0m         \u001b[38;5;28;01mreturn\u001b[39;00m modules[name]\n\u001b[0;32m-> 1931\u001b[0m \u001b[38;5;28;01mraise\u001b[39;00m \u001b[38;5;167;01mAttributeError\u001b[39;00m(\n\u001b[1;32m   1932\u001b[0m     \u001b[38;5;124mf\u001b[39m\u001b[38;5;124m\"\u001b[39m\u001b[38;5;124m'\u001b[39m\u001b[38;5;132;01m{\u001b[39;00m\u001b[38;5;28mtype\u001b[39m(\u001b[38;5;28mself\u001b[39m)\u001b[38;5;241m.\u001b[39m\u001b[38;5;18m__name__\u001b[39m\u001b[38;5;132;01m}\u001b[39;00m\u001b[38;5;124m'\u001b[39m\u001b[38;5;124m object has no attribute \u001b[39m\u001b[38;5;124m'\u001b[39m\u001b[38;5;132;01m{\u001b[39;00mname\u001b[38;5;132;01m}\u001b[39;00m\u001b[38;5;124m'\u001b[39m\u001b[38;5;124m\"\u001b[39m\n\u001b[1;32m   1933\u001b[0m )\n",
      "\u001b[0;31mAttributeError\u001b[0m: 'MobileNetV2' object has no attribute 'ConvolutionalNet'"
     ]
    }
   ],
   "source": [
    "model = model.ConvolutionalNet()"
   ]
  },
  {
   "cell_type": "code",
   "execution_count": 9,
   "metadata": {},
   "outputs": [
    {
     "data": {
      "text/plain": [
       "ConvolutionalNet(\n",
       "  (adaptador): Conv2d(1, 3, kernel_size=(4, 4), stride=(1, 1))\n",
       "  (base_model): MobileNetV2(\n",
       "    (features): Sequential(\n",
       "      (0): Conv2dNormActivation(\n",
       "        (0): Conv2d(3, 32, kernel_size=(3, 3), stride=(2, 2), padding=(1, 1), bias=False)\n",
       "        (1): BatchNorm2d(32, eps=1e-05, momentum=0.1, affine=True, track_running_stats=True)\n",
       "        (2): ReLU6(inplace=True)\n",
       "      )\n",
       "      (1): InvertedResidual(\n",
       "        (conv): Sequential(\n",
       "          (0): Conv2dNormActivation(\n",
       "            (0): Conv2d(32, 32, kernel_size=(3, 3), stride=(1, 1), padding=(1, 1), groups=32, bias=False)\n",
       "            (1): BatchNorm2d(32, eps=1e-05, momentum=0.1, affine=True, track_running_stats=True)\n",
       "            (2): ReLU6(inplace=True)\n",
       "          )\n",
       "          (1): Conv2d(32, 16, kernel_size=(1, 1), stride=(1, 1), bias=False)\n",
       "          (2): BatchNorm2d(16, eps=1e-05, momentum=0.1, affine=True, track_running_stats=True)\n",
       "        )\n",
       "      )\n",
       "      (2): InvertedResidual(\n",
       "        (conv): Sequential(\n",
       "          (0): Conv2dNormActivation(\n",
       "            (0): Conv2d(16, 96, kernel_size=(1, 1), stride=(1, 1), bias=False)\n",
       "            (1): BatchNorm2d(96, eps=1e-05, momentum=0.1, affine=True, track_running_stats=True)\n",
       "            (2): ReLU6(inplace=True)\n",
       "          )\n",
       "          (1): Conv2dNormActivation(\n",
       "            (0): Conv2d(96, 96, kernel_size=(3, 3), stride=(2, 2), padding=(1, 1), groups=96, bias=False)\n",
       "            (1): BatchNorm2d(96, eps=1e-05, momentum=0.1, affine=True, track_running_stats=True)\n",
       "            (2): ReLU6(inplace=True)\n",
       "          )\n",
       "          (2): Conv2d(96, 24, kernel_size=(1, 1), stride=(1, 1), bias=False)\n",
       "          (3): BatchNorm2d(24, eps=1e-05, momentum=0.1, affine=True, track_running_stats=True)\n",
       "        )\n",
       "      )\n",
       "      (3): InvertedResidual(\n",
       "        (conv): Sequential(\n",
       "          (0): Conv2dNormActivation(\n",
       "            (0): Conv2d(24, 144, kernel_size=(1, 1), stride=(1, 1), bias=False)\n",
       "            (1): BatchNorm2d(144, eps=1e-05, momentum=0.1, affine=True, track_running_stats=True)\n",
       "            (2): ReLU6(inplace=True)\n",
       "          )\n",
       "          (1): Conv2dNormActivation(\n",
       "            (0): Conv2d(144, 144, kernel_size=(3, 3), stride=(1, 1), padding=(1, 1), groups=144, bias=False)\n",
       "            (1): BatchNorm2d(144, eps=1e-05, momentum=0.1, affine=True, track_running_stats=True)\n",
       "            (2): ReLU6(inplace=True)\n",
       "          )\n",
       "          (2): Conv2d(144, 24, kernel_size=(1, 1), stride=(1, 1), bias=False)\n",
       "          (3): BatchNorm2d(24, eps=1e-05, momentum=0.1, affine=True, track_running_stats=True)\n",
       "        )\n",
       "      )\n",
       "      (4): InvertedResidual(\n",
       "        (conv): Sequential(\n",
       "          (0): Conv2dNormActivation(\n",
       "            (0): Conv2d(24, 144, kernel_size=(1, 1), stride=(1, 1), bias=False)\n",
       "            (1): BatchNorm2d(144, eps=1e-05, momentum=0.1, affine=True, track_running_stats=True)\n",
       "            (2): ReLU6(inplace=True)\n",
       "          )\n",
       "          (1): Conv2dNormActivation(\n",
       "            (0): Conv2d(144, 144, kernel_size=(3, 3), stride=(2, 2), padding=(1, 1), groups=144, bias=False)\n",
       "            (1): BatchNorm2d(144, eps=1e-05, momentum=0.1, affine=True, track_running_stats=True)\n",
       "            (2): ReLU6(inplace=True)\n",
       "          )\n",
       "          (2): Conv2d(144, 32, kernel_size=(1, 1), stride=(1, 1), bias=False)\n",
       "          (3): BatchNorm2d(32, eps=1e-05, momentum=0.1, affine=True, track_running_stats=True)\n",
       "        )\n",
       "      )\n",
       "      (5): InvertedResidual(\n",
       "        (conv): Sequential(\n",
       "          (0): Conv2dNormActivation(\n",
       "            (0): Conv2d(32, 192, kernel_size=(1, 1), stride=(1, 1), bias=False)\n",
       "            (1): BatchNorm2d(192, eps=1e-05, momentum=0.1, affine=True, track_running_stats=True)\n",
       "            (2): ReLU6(inplace=True)\n",
       "          )\n",
       "          (1): Conv2dNormActivation(\n",
       "            (0): Conv2d(192, 192, kernel_size=(3, 3), stride=(1, 1), padding=(1, 1), groups=192, bias=False)\n",
       "            (1): BatchNorm2d(192, eps=1e-05, momentum=0.1, affine=True, track_running_stats=True)\n",
       "            (2): ReLU6(inplace=True)\n",
       "          )\n",
       "          (2): Conv2d(192, 32, kernel_size=(1, 1), stride=(1, 1), bias=False)\n",
       "          (3): BatchNorm2d(32, eps=1e-05, momentum=0.1, affine=True, track_running_stats=True)\n",
       "        )\n",
       "      )\n",
       "      (6): InvertedResidual(\n",
       "        (conv): Sequential(\n",
       "          (0): Conv2dNormActivation(\n",
       "            (0): Conv2d(32, 192, kernel_size=(1, 1), stride=(1, 1), bias=False)\n",
       "            (1): BatchNorm2d(192, eps=1e-05, momentum=0.1, affine=True, track_running_stats=True)\n",
       "            (2): ReLU6(inplace=True)\n",
       "          )\n",
       "          (1): Conv2dNormActivation(\n",
       "            (0): Conv2d(192, 192, kernel_size=(3, 3), stride=(1, 1), padding=(1, 1), groups=192, bias=False)\n",
       "            (1): BatchNorm2d(192, eps=1e-05, momentum=0.1, affine=True, track_running_stats=True)\n",
       "            (2): ReLU6(inplace=True)\n",
       "          )\n",
       "          (2): Conv2d(192, 32, kernel_size=(1, 1), stride=(1, 1), bias=False)\n",
       "          (3): BatchNorm2d(32, eps=1e-05, momentum=0.1, affine=True, track_running_stats=True)\n",
       "        )\n",
       "      )\n",
       "      (7): InvertedResidual(\n",
       "        (conv): Sequential(\n",
       "          (0): Conv2dNormActivation(\n",
       "            (0): Conv2d(32, 192, kernel_size=(1, 1), stride=(1, 1), bias=False)\n",
       "            (1): BatchNorm2d(192, eps=1e-05, momentum=0.1, affine=True, track_running_stats=True)\n",
       "            (2): ReLU6(inplace=True)\n",
       "          )\n",
       "          (1): Conv2dNormActivation(\n",
       "            (0): Conv2d(192, 192, kernel_size=(3, 3), stride=(2, 2), padding=(1, 1), groups=192, bias=False)\n",
       "            (1): BatchNorm2d(192, eps=1e-05, momentum=0.1, affine=True, track_running_stats=True)\n",
       "            (2): ReLU6(inplace=True)\n",
       "          )\n",
       "          (2): Conv2d(192, 64, kernel_size=(1, 1), stride=(1, 1), bias=False)\n",
       "          (3): BatchNorm2d(64, eps=1e-05, momentum=0.1, affine=True, track_running_stats=True)\n",
       "        )\n",
       "      )\n",
       "      (8): InvertedResidual(\n",
       "        (conv): Sequential(\n",
       "          (0): Conv2dNormActivation(\n",
       "            (0): Conv2d(64, 384, kernel_size=(1, 1), stride=(1, 1), bias=False)\n",
       "            (1): BatchNorm2d(384, eps=1e-05, momentum=0.1, affine=True, track_running_stats=True)\n",
       "            (2): ReLU6(inplace=True)\n",
       "          )\n",
       "          (1): Conv2dNormActivation(\n",
       "            (0): Conv2d(384, 384, kernel_size=(3, 3), stride=(1, 1), padding=(1, 1), groups=384, bias=False)\n",
       "            (1): BatchNorm2d(384, eps=1e-05, momentum=0.1, affine=True, track_running_stats=True)\n",
       "            (2): ReLU6(inplace=True)\n",
       "          )\n",
       "          (2): Conv2d(384, 64, kernel_size=(1, 1), stride=(1, 1), bias=False)\n",
       "          (3): BatchNorm2d(64, eps=1e-05, momentum=0.1, affine=True, track_running_stats=True)\n",
       "        )\n",
       "      )\n",
       "      (9): InvertedResidual(\n",
       "        (conv): Sequential(\n",
       "          (0): Conv2dNormActivation(\n",
       "            (0): Conv2d(64, 384, kernel_size=(1, 1), stride=(1, 1), bias=False)\n",
       "            (1): BatchNorm2d(384, eps=1e-05, momentum=0.1, affine=True, track_running_stats=True)\n",
       "            (2): ReLU6(inplace=True)\n",
       "          )\n",
       "          (1): Conv2dNormActivation(\n",
       "            (0): Conv2d(384, 384, kernel_size=(3, 3), stride=(1, 1), padding=(1, 1), groups=384, bias=False)\n",
       "            (1): BatchNorm2d(384, eps=1e-05, momentum=0.1, affine=True, track_running_stats=True)\n",
       "            (2): ReLU6(inplace=True)\n",
       "          )\n",
       "          (2): Conv2d(384, 64, kernel_size=(1, 1), stride=(1, 1), bias=False)\n",
       "          (3): BatchNorm2d(64, eps=1e-05, momentum=0.1, affine=True, track_running_stats=True)\n",
       "        )\n",
       "      )\n",
       "      (10): InvertedResidual(\n",
       "        (conv): Sequential(\n",
       "          (0): Conv2dNormActivation(\n",
       "            (0): Conv2d(64, 384, kernel_size=(1, 1), stride=(1, 1), bias=False)\n",
       "            (1): BatchNorm2d(384, eps=1e-05, momentum=0.1, affine=True, track_running_stats=True)\n",
       "            (2): ReLU6(inplace=True)\n",
       "          )\n",
       "          (1): Conv2dNormActivation(\n",
       "            (0): Conv2d(384, 384, kernel_size=(3, 3), stride=(1, 1), padding=(1, 1), groups=384, bias=False)\n",
       "            (1): BatchNorm2d(384, eps=1e-05, momentum=0.1, affine=True, track_running_stats=True)\n",
       "            (2): ReLU6(inplace=True)\n",
       "          )\n",
       "          (2): Conv2d(384, 64, kernel_size=(1, 1), stride=(1, 1), bias=False)\n",
       "          (3): BatchNorm2d(64, eps=1e-05, momentum=0.1, affine=True, track_running_stats=True)\n",
       "        )\n",
       "      )\n",
       "      (11): InvertedResidual(\n",
       "        (conv): Sequential(\n",
       "          (0): Conv2dNormActivation(\n",
       "            (0): Conv2d(64, 384, kernel_size=(1, 1), stride=(1, 1), bias=False)\n",
       "            (1): BatchNorm2d(384, eps=1e-05, momentum=0.1, affine=True, track_running_stats=True)\n",
       "            (2): ReLU6(inplace=True)\n",
       "          )\n",
       "          (1): Conv2dNormActivation(\n",
       "            (0): Conv2d(384, 384, kernel_size=(3, 3), stride=(1, 1), padding=(1, 1), groups=384, bias=False)\n",
       "            (1): BatchNorm2d(384, eps=1e-05, momentum=0.1, affine=True, track_running_stats=True)\n",
       "            (2): ReLU6(inplace=True)\n",
       "          )\n",
       "          (2): Conv2d(384, 96, kernel_size=(1, 1), stride=(1, 1), bias=False)\n",
       "          (3): BatchNorm2d(96, eps=1e-05, momentum=0.1, affine=True, track_running_stats=True)\n",
       "        )\n",
       "      )\n",
       "      (12): InvertedResidual(\n",
       "        (conv): Sequential(\n",
       "          (0): Conv2dNormActivation(\n",
       "            (0): Conv2d(96, 576, kernel_size=(1, 1), stride=(1, 1), bias=False)\n",
       "            (1): BatchNorm2d(576, eps=1e-05, momentum=0.1, affine=True, track_running_stats=True)\n",
       "            (2): ReLU6(inplace=True)\n",
       "          )\n",
       "          (1): Conv2dNormActivation(\n",
       "            (0): Conv2d(576, 576, kernel_size=(3, 3), stride=(1, 1), padding=(1, 1), groups=576, bias=False)\n",
       "            (1): BatchNorm2d(576, eps=1e-05, momentum=0.1, affine=True, track_running_stats=True)\n",
       "            (2): ReLU6(inplace=True)\n",
       "          )\n",
       "          (2): Conv2d(576, 96, kernel_size=(1, 1), stride=(1, 1), bias=False)\n",
       "          (3): BatchNorm2d(96, eps=1e-05, momentum=0.1, affine=True, track_running_stats=True)\n",
       "        )\n",
       "      )\n",
       "      (13): InvertedResidual(\n",
       "        (conv): Sequential(\n",
       "          (0): Conv2dNormActivation(\n",
       "            (0): Conv2d(96, 576, kernel_size=(1, 1), stride=(1, 1), bias=False)\n",
       "            (1): BatchNorm2d(576, eps=1e-05, momentum=0.1, affine=True, track_running_stats=True)\n",
       "            (2): ReLU6(inplace=True)\n",
       "          )\n",
       "          (1): Conv2dNormActivation(\n",
       "            (0): Conv2d(576, 576, kernel_size=(3, 3), stride=(1, 1), padding=(1, 1), groups=576, bias=False)\n",
       "            (1): BatchNorm2d(576, eps=1e-05, momentum=0.1, affine=True, track_running_stats=True)\n",
       "            (2): ReLU6(inplace=True)\n",
       "          )\n",
       "          (2): Conv2d(576, 96, kernel_size=(1, 1), stride=(1, 1), bias=False)\n",
       "          (3): BatchNorm2d(96, eps=1e-05, momentum=0.1, affine=True, track_running_stats=True)\n",
       "        )\n",
       "      )\n",
       "      (14): InvertedResidual(\n",
       "        (conv): Sequential(\n",
       "          (0): Conv2dNormActivation(\n",
       "            (0): Conv2d(96, 576, kernel_size=(1, 1), stride=(1, 1), bias=False)\n",
       "            (1): BatchNorm2d(576, eps=1e-05, momentum=0.1, affine=True, track_running_stats=True)\n",
       "            (2): ReLU6(inplace=True)\n",
       "          )\n",
       "          (1): Conv2dNormActivation(\n",
       "            (0): Conv2d(576, 576, kernel_size=(3, 3), stride=(2, 2), padding=(1, 1), groups=576, bias=False)\n",
       "            (1): BatchNorm2d(576, eps=1e-05, momentum=0.1, affine=True, track_running_stats=True)\n",
       "            (2): ReLU6(inplace=True)\n",
       "          )\n",
       "          (2): Conv2d(576, 160, kernel_size=(1, 1), stride=(1, 1), bias=False)\n",
       "          (3): BatchNorm2d(160, eps=1e-05, momentum=0.1, affine=True, track_running_stats=True)\n",
       "        )\n",
       "      )\n",
       "      (15): InvertedResidual(\n",
       "        (conv): Sequential(\n",
       "          (0): Conv2dNormActivation(\n",
       "            (0): Conv2d(160, 960, kernel_size=(1, 1), stride=(1, 1), bias=False)\n",
       "            (1): BatchNorm2d(960, eps=1e-05, momentum=0.1, affine=True, track_running_stats=True)\n",
       "            (2): ReLU6(inplace=True)\n",
       "          )\n",
       "          (1): Conv2dNormActivation(\n",
       "            (0): Conv2d(960, 960, kernel_size=(3, 3), stride=(1, 1), padding=(1, 1), groups=960, bias=False)\n",
       "            (1): BatchNorm2d(960, eps=1e-05, momentum=0.1, affine=True, track_running_stats=True)\n",
       "            (2): ReLU6(inplace=True)\n",
       "          )\n",
       "          (2): Conv2d(960, 160, kernel_size=(1, 1), stride=(1, 1), bias=False)\n",
       "          (3): BatchNorm2d(160, eps=1e-05, momentum=0.1, affine=True, track_running_stats=True)\n",
       "        )\n",
       "      )\n",
       "      (16): InvertedResidual(\n",
       "        (conv): Sequential(\n",
       "          (0): Conv2dNormActivation(\n",
       "            (0): Conv2d(160, 960, kernel_size=(1, 1), stride=(1, 1), bias=False)\n",
       "            (1): BatchNorm2d(960, eps=1e-05, momentum=0.1, affine=True, track_running_stats=True)\n",
       "            (2): ReLU6(inplace=True)\n",
       "          )\n",
       "          (1): Conv2dNormActivation(\n",
       "            (0): Conv2d(960, 960, kernel_size=(3, 3), stride=(1, 1), padding=(1, 1), groups=960, bias=False)\n",
       "            (1): BatchNorm2d(960, eps=1e-05, momentum=0.1, affine=True, track_running_stats=True)\n",
       "            (2): ReLU6(inplace=True)\n",
       "          )\n",
       "          (2): Conv2d(960, 160, kernel_size=(1, 1), stride=(1, 1), bias=False)\n",
       "          (3): BatchNorm2d(160, eps=1e-05, momentum=0.1, affine=True, track_running_stats=True)\n",
       "        )\n",
       "      )\n",
       "      (17): InvertedResidual(\n",
       "        (conv): Sequential(\n",
       "          (0): Conv2dNormActivation(\n",
       "            (0): Conv2d(160, 960, kernel_size=(1, 1), stride=(1, 1), bias=False)\n",
       "            (1): BatchNorm2d(960, eps=1e-05, momentum=0.1, affine=True, track_running_stats=True)\n",
       "            (2): ReLU6(inplace=True)\n",
       "          )\n",
       "          (1): Conv2dNormActivation(\n",
       "            (0): Conv2d(960, 960, kernel_size=(3, 3), stride=(1, 1), padding=(1, 1), groups=960, bias=False)\n",
       "            (1): BatchNorm2d(960, eps=1e-05, momentum=0.1, affine=True, track_running_stats=True)\n",
       "            (2): ReLU6(inplace=True)\n",
       "          )\n",
       "          (2): Conv2d(960, 320, kernel_size=(1, 1), stride=(1, 1), bias=False)\n",
       "          (3): BatchNorm2d(320, eps=1e-05, momentum=0.1, affine=True, track_running_stats=True)\n",
       "        )\n",
       "      )\n",
       "      (18): Conv2dNormActivation(\n",
       "        (0): Conv2d(320, 1280, kernel_size=(1, 1), stride=(1, 1), bias=False)\n",
       "        (1): BatchNorm2d(1280, eps=1e-05, momentum=0.1, affine=True, track_running_stats=True)\n",
       "        (2): ReLU6(inplace=True)\n",
       "      )\n",
       "    )\n",
       "    (classifier): Sequential(\n",
       "      (0): Dropout(p=0.2, inplace=False)\n",
       "      (1): Linear(in_features=1280, out_features=2, bias=True)\n",
       "    )\n",
       "  )\n",
       ")"
      ]
     },
     "execution_count": 9,
     "metadata": {},
     "output_type": "execute_result"
    }
   ],
   "source": [
    "model"
   ]
  },
  {
   "cell_type": "code",
   "execution_count": 10,
   "metadata": {},
   "outputs": [
    {
     "name": "stdout",
     "output_type": "stream",
     "text": [
      "adaptador.weight True\n",
      "adaptador.bias True\n",
      "base_model.features.0.0.weight False\n",
      "base_model.features.0.1.weight False\n",
      "base_model.features.0.1.bias False\n",
      "base_model.features.1.conv.0.0.weight False\n",
      "base_model.features.1.conv.0.1.weight False\n",
      "base_model.features.1.conv.0.1.bias False\n",
      "base_model.features.1.conv.1.weight False\n",
      "base_model.features.1.conv.2.weight False\n",
      "base_model.features.1.conv.2.bias False\n",
      "base_model.features.2.conv.0.0.weight False\n",
      "base_model.features.2.conv.0.1.weight False\n",
      "base_model.features.2.conv.0.1.bias False\n",
      "base_model.features.2.conv.1.0.weight False\n",
      "base_model.features.2.conv.1.1.weight False\n",
      "base_model.features.2.conv.1.1.bias False\n",
      "base_model.features.2.conv.2.weight False\n",
      "base_model.features.2.conv.3.weight False\n",
      "base_model.features.2.conv.3.bias False\n",
      "base_model.features.3.conv.0.0.weight False\n",
      "base_model.features.3.conv.0.1.weight False\n",
      "base_model.features.3.conv.0.1.bias False\n",
      "base_model.features.3.conv.1.0.weight False\n",
      "base_model.features.3.conv.1.1.weight False\n",
      "base_model.features.3.conv.1.1.bias False\n",
      "base_model.features.3.conv.2.weight False\n",
      "base_model.features.3.conv.3.weight False\n",
      "base_model.features.3.conv.3.bias False\n",
      "base_model.features.4.conv.0.0.weight False\n",
      "base_model.features.4.conv.0.1.weight False\n",
      "base_model.features.4.conv.0.1.bias False\n",
      "base_model.features.4.conv.1.0.weight False\n",
      "base_model.features.4.conv.1.1.weight False\n",
      "base_model.features.4.conv.1.1.bias False\n",
      "base_model.features.4.conv.2.weight False\n",
      "base_model.features.4.conv.3.weight False\n",
      "base_model.features.4.conv.3.bias False\n",
      "base_model.features.5.conv.0.0.weight False\n",
      "base_model.features.5.conv.0.1.weight False\n",
      "base_model.features.5.conv.0.1.bias False\n",
      "base_model.features.5.conv.1.0.weight False\n",
      "base_model.features.5.conv.1.1.weight False\n",
      "base_model.features.5.conv.1.1.bias False\n",
      "base_model.features.5.conv.2.weight False\n",
      "base_model.features.5.conv.3.weight False\n",
      "base_model.features.5.conv.3.bias False\n",
      "base_model.features.6.conv.0.0.weight False\n",
      "base_model.features.6.conv.0.1.weight False\n",
      "base_model.features.6.conv.0.1.bias False\n",
      "base_model.features.6.conv.1.0.weight False\n",
      "base_model.features.6.conv.1.1.weight False\n",
      "base_model.features.6.conv.1.1.bias False\n",
      "base_model.features.6.conv.2.weight False\n",
      "base_model.features.6.conv.3.weight False\n",
      "base_model.features.6.conv.3.bias False\n",
      "base_model.features.7.conv.0.0.weight False\n",
      "base_model.features.7.conv.0.1.weight False\n",
      "base_model.features.7.conv.0.1.bias False\n",
      "base_model.features.7.conv.1.0.weight False\n",
      "base_model.features.7.conv.1.1.weight False\n",
      "base_model.features.7.conv.1.1.bias False\n",
      "base_model.features.7.conv.2.weight False\n",
      "base_model.features.7.conv.3.weight False\n",
      "base_model.features.7.conv.3.bias False\n",
      "base_model.features.8.conv.0.0.weight False\n",
      "base_model.features.8.conv.0.1.weight False\n",
      "base_model.features.8.conv.0.1.bias False\n",
      "base_model.features.8.conv.1.0.weight False\n",
      "base_model.features.8.conv.1.1.weight False\n",
      "base_model.features.8.conv.1.1.bias False\n",
      "base_model.features.8.conv.2.weight False\n",
      "base_model.features.8.conv.3.weight False\n",
      "base_model.features.8.conv.3.bias False\n",
      "base_model.features.9.conv.0.0.weight False\n",
      "base_model.features.9.conv.0.1.weight False\n",
      "base_model.features.9.conv.0.1.bias False\n",
      "base_model.features.9.conv.1.0.weight False\n",
      "base_model.features.9.conv.1.1.weight False\n",
      "base_model.features.9.conv.1.1.bias False\n",
      "base_model.features.9.conv.2.weight False\n",
      "base_model.features.9.conv.3.weight False\n",
      "base_model.features.9.conv.3.bias False\n",
      "base_model.features.10.conv.0.0.weight False\n",
      "base_model.features.10.conv.0.1.weight False\n",
      "base_model.features.10.conv.0.1.bias False\n",
      "base_model.features.10.conv.1.0.weight False\n",
      "base_model.features.10.conv.1.1.weight False\n",
      "base_model.features.10.conv.1.1.bias False\n",
      "base_model.features.10.conv.2.weight False\n",
      "base_model.features.10.conv.3.weight False\n",
      "base_model.features.10.conv.3.bias False\n",
      "base_model.features.11.conv.0.0.weight False\n",
      "base_model.features.11.conv.0.1.weight False\n",
      "base_model.features.11.conv.0.1.bias False\n",
      "base_model.features.11.conv.1.0.weight False\n",
      "base_model.features.11.conv.1.1.weight False\n",
      "base_model.features.11.conv.1.1.bias False\n",
      "base_model.features.11.conv.2.weight False\n",
      "base_model.features.11.conv.3.weight False\n",
      "base_model.features.11.conv.3.bias False\n",
      "base_model.features.12.conv.0.0.weight False\n",
      "base_model.features.12.conv.0.1.weight False\n",
      "base_model.features.12.conv.0.1.bias False\n",
      "base_model.features.12.conv.1.0.weight False\n",
      "base_model.features.12.conv.1.1.weight False\n",
      "base_model.features.12.conv.1.1.bias False\n",
      "base_model.features.12.conv.2.weight False\n",
      "base_model.features.12.conv.3.weight False\n",
      "base_model.features.12.conv.3.bias False\n",
      "base_model.features.13.conv.0.0.weight False\n",
      "base_model.features.13.conv.0.1.weight False\n",
      "base_model.features.13.conv.0.1.bias False\n",
      "base_model.features.13.conv.1.0.weight False\n",
      "base_model.features.13.conv.1.1.weight False\n",
      "base_model.features.13.conv.1.1.bias False\n",
      "base_model.features.13.conv.2.weight False\n",
      "base_model.features.13.conv.3.weight False\n",
      "base_model.features.13.conv.3.bias False\n",
      "base_model.features.14.conv.0.0.weight False\n",
      "base_model.features.14.conv.0.1.weight False\n",
      "base_model.features.14.conv.0.1.bias False\n",
      "base_model.features.14.conv.1.0.weight False\n",
      "base_model.features.14.conv.1.1.weight False\n",
      "base_model.features.14.conv.1.1.bias False\n",
      "base_model.features.14.conv.2.weight False\n",
      "base_model.features.14.conv.3.weight False\n",
      "base_model.features.14.conv.3.bias False\n",
      "base_model.features.15.conv.0.0.weight False\n",
      "base_model.features.15.conv.0.1.weight False\n",
      "base_model.features.15.conv.0.1.bias False\n",
      "base_model.features.15.conv.1.0.weight False\n",
      "base_model.features.15.conv.1.1.weight False\n",
      "base_model.features.15.conv.1.1.bias False\n",
      "base_model.features.15.conv.2.weight False\n",
      "base_model.features.15.conv.3.weight False\n",
      "base_model.features.15.conv.3.bias False\n",
      "base_model.features.16.conv.0.0.weight False\n",
      "base_model.features.16.conv.0.1.weight False\n",
      "base_model.features.16.conv.0.1.bias False\n",
      "base_model.features.16.conv.1.0.weight False\n",
      "base_model.features.16.conv.1.1.weight False\n",
      "base_model.features.16.conv.1.1.bias False\n",
      "base_model.features.16.conv.2.weight False\n",
      "base_model.features.16.conv.3.weight False\n",
      "base_model.features.16.conv.3.bias False\n",
      "base_model.features.17.conv.0.0.weight False\n",
      "base_model.features.17.conv.0.1.weight False\n",
      "base_model.features.17.conv.0.1.bias False\n",
      "base_model.features.17.conv.1.0.weight False\n",
      "base_model.features.17.conv.1.1.weight False\n",
      "base_model.features.17.conv.1.1.bias False\n",
      "base_model.features.17.conv.2.weight False\n",
      "base_model.features.17.conv.3.weight False\n",
      "base_model.features.17.conv.3.bias False\n",
      "base_model.features.18.0.weight False\n",
      "base_model.features.18.1.weight False\n",
      "base_model.features.18.1.bias False\n",
      "base_model.classifier.1.weight True\n",
      "base_model.classifier.1.bias True\n"
     ]
    }
   ],
   "source": [
    "for name, params in model.named_parameters():\n",
    "    print(name, params.requires_grad)"
   ]
  },
  {
   "cell_type": "code",
   "execution_count": 15,
   "metadata": {},
   "outputs": [
    {
     "data": {
      "text/plain": [
       "===========================================================================\n",
       "Layer (type:depth-idx)                             Param #\n",
       "===========================================================================\n",
       "MobileNetV2                                        --\n",
       "├─Sequential: 1-1                                  --\n",
       "│    └─Conv2dNormActivation: 2-1                   --\n",
       "│    │    └─Conv2d: 3-1                            864\n",
       "│    │    └─BatchNorm2d: 3-2                       64\n",
       "│    │    └─ReLU6: 3-3                             --\n",
       "│    └─InvertedResidual: 2-2                       --\n",
       "│    │    └─Sequential: 3-4                        896\n",
       "│    └─InvertedResidual: 2-3                       --\n",
       "│    │    └─Sequential: 3-5                        5,136\n",
       "│    └─InvertedResidual: 2-4                       --\n",
       "│    │    └─Sequential: 3-6                        8,832\n",
       "│    └─InvertedResidual: 2-5                       --\n",
       "│    │    └─Sequential: 3-7                        10,000\n",
       "│    └─InvertedResidual: 2-6                       --\n",
       "│    │    └─Sequential: 3-8                        14,848\n",
       "│    └─InvertedResidual: 2-7                       --\n",
       "│    │    └─Sequential: 3-9                        14,848\n",
       "│    └─InvertedResidual: 2-8                       --\n",
       "│    │    └─Sequential: 3-10                       21,056\n",
       "│    └─InvertedResidual: 2-9                       --\n",
       "│    │    └─Sequential: 3-11                       54,272\n",
       "│    └─InvertedResidual: 2-10                      --\n",
       "│    │    └─Sequential: 3-12                       54,272\n",
       "│    └─InvertedResidual: 2-11                      --\n",
       "│    │    └─Sequential: 3-13                       54,272\n",
       "│    └─InvertedResidual: 2-12                      --\n",
       "│    │    └─Sequential: 3-14                       66,624\n",
       "│    └─InvertedResidual: 2-13                      --\n",
       "│    │    └─Sequential: 3-15                       118,272\n",
       "│    └─InvertedResidual: 2-14                      --\n",
       "│    │    └─Sequential: 3-16                       118,272\n",
       "│    └─InvertedResidual: 2-15                      --\n",
       "│    │    └─Sequential: 3-17                       155,264\n",
       "│    └─InvertedResidual: 2-16                      --\n",
       "│    │    └─Sequential: 3-18                       320,000\n",
       "│    └─InvertedResidual: 2-17                      --\n",
       "│    │    └─Sequential: 3-19                       320,000\n",
       "│    └─InvertedResidual: 2-18                      --\n",
       "│    │    └─Sequential: 3-20                       473,920\n",
       "│    └─Conv2dNormActivation: 2-19                  --\n",
       "│    │    └─Conv2d: 3-21                           409,600\n",
       "│    │    └─BatchNorm2d: 3-22                      2,560\n",
       "│    │    └─ReLU6: 3-23                            --\n",
       "├─Sequential: 1-2                                  --\n",
       "│    └─Dropout: 2-20                               --\n",
       "│    └─Linear: 2-21                                1,281,000\n",
       "===========================================================================\n",
       "Total params: 3,504,872\n",
       "Trainable params: 3,504,872\n",
       "Non-trainable params: 0\n",
       "==========================================================================="
      ]
     },
     "execution_count": 15,
     "metadata": {},
     "output_type": "execute_result"
    }
   ],
   "source": [
    "summary(model)"
   ]
  },
  {
   "cell_type": "code",
   "execution_count": 2,
   "metadata": {},
   "outputs": [
    {
     "name": "stderr",
     "output_type": "stream",
     "text": [
      "/tmp/ipykernel_50047/774777495.py:1: FutureWarning: You are using `torch.load` with `weights_only=False` (the current default value), which uses the default pickle module implicitly. It is possible to construct malicious pickle data which will execute arbitrary code during unpickling (See https://github.com/pytorch/pytorch/blob/main/SECURITY.md#untrusted-models for more details). In a future release, the default value for `weights_only` will be flipped to `True`. This limits the functions that could be executed during unpickling. Arbitrary objects will no longer be allowed to be loaded via this mode unless they are explicitly allowlisted by the user via `torch.serialization.add_safe_globals`. We recommend you start setting `weights_only=True` for any use case where you don't have full control of the loaded file. Please open an issue on GitHub for any issues related to this experimental feature.\n",
      "  model = torch.load('models/convolutionalnet.pth')\n"
     ]
    }
   ],
   "source": [
    "model = torch.load('models/convolutionalnet.pth')"
   ]
  },
  {
   "cell_type": "code",
   "execution_count": 15,
   "metadata": {},
   "outputs": [
    {
     "name": "stdout",
     "output_type": "stream",
     "text": [
      "tensor([[[-109.9882, -109.9974, -109.9997,  ..., -109.9988, -109.9910,\n",
      "          -109.9956],\n",
      "         [-109.9883, -109.9974, -109.9911,  ..., -109.9904, -109.9906,\n",
      "          -109.9956],\n",
      "         [-109.9898, -109.9974, -109.9886,  ..., -109.9878, -109.9913,\n",
      "          -109.9958],\n",
      "         ...,\n",
      "         [-110.0000, -110.0000, -110.0000,  ..., -110.0000, -110.0000,\n",
      "          -110.0000],\n",
      "         [-110.0000, -110.0000, -110.0000,  ..., -110.0000, -110.0000,\n",
      "          -110.0000],\n",
      "         [-110.0000, -110.0000, -110.0000,  ..., -110.0000, -110.0000,\n",
      "          -110.0000]]])\n"
     ]
    }
   ],
   "source": [
    "X , env = test[int(np.random.uniform(0,200))]\n",
    "print(X)\n",
    "model.eval()\n",
    "with torch.no_grad():\n",
    "    pred = model(X.unsqueeze(0))"
   ]
  },
  {
   "cell_type": "code",
   "execution_count": 16,
   "metadata": {},
   "outputs": [
    {
     "data": {
      "text/plain": [
       "(tensor(-0.6519), tensor(0.4285))"
      ]
     },
     "execution_count": 16,
     "metadata": {},
     "output_type": "execute_result"
    }
   ],
   "source": [
    "env[0] - pred[0][0],  env[1] - pred[0][1]"
   ]
  },
  {
   "cell_type": "code",
   "execution_count": 5,
   "metadata": {},
   "outputs": [
    {
     "data": {
      "text/plain": [
       "(tensor(0.2283), tensor(1.6164))"
      ]
     },
     "execution_count": 5,
     "metadata": {},
     "output_type": "execute_result"
    }
   ],
   "source": [
    "env[0] , pred[0][0]"
   ]
  },
  {
   "cell_type": "code",
   "execution_count": 17,
   "metadata": {},
   "outputs": [
    {
     "data": {
      "text/plain": [
       "(tensor(399.8198), tensor(497.6096))"
      ]
     },
     "execution_count": 17,
     "metadata": {},
     "output_type": "execute_result"
    }
   ],
   "source": [
    "env[0] *(400-250) + 250 , pred[0][0]*(400-250) + 250"
   ]
  },
  {
   "cell_type": "code",
   "execution_count": 17,
   "metadata": {},
   "outputs": [
    {
     "data": {
      "text/plain": [
       "(tensor(0.2360), tensor(0.5185))"
      ]
     },
     "execution_count": 17,
     "metadata": {},
     "output_type": "execute_result"
    }
   ],
   "source": [
    "env[1] , pred[0][1]"
   ]
  },
  {
   "cell_type": "code",
   "execution_count": 18,
   "metadata": {},
   "outputs": [
    {
     "data": {
      "text/plain": [
       "(tensor(0.5117), tensor(0.1732))"
      ]
     },
     "execution_count": 18,
     "metadata": {},
     "output_type": "execute_result"
    }
   ],
   "source": [
    "env[1] * (0.8 - 0.01) + 0.01 , pred[0][1]* (0.8 - 0.01) + 0.01"
   ]
  },
  {
   "cell_type": "code",
   "execution_count": 1,
   "metadata": {},
   "outputs": [],
   "source": [
    "import numpy as np"
   ]
  },
  {
   "cell_type": "code",
   "execution_count": 42,
   "metadata": {},
   "outputs": [],
   "source": [
    "temperatures = np.random.uniform(273.15,373.15, 200)\n",
    "\n",
    "pressures = np.random.uniform(0.01,1, 200)\n",
    "\n"
   ]
  },
  {
   "cell_type": "code",
   "execution_count": 43,
   "metadata": {},
   "outputs": [
    {
     "data": {
      "text/plain": [
       "(np.float64(297.7244793413202), np.float64(0.5007531332135272))"
      ]
     },
     "execution_count": 43,
     "metadata": {},
     "output_type": "execute_result"
    }
   ],
   "source": [
    "temperatures[1], pressures[1]"
   ]
  },
  {
   "cell_type": "code",
   "execution_count": 44,
   "metadata": {},
   "outputs": [],
   "source": [
    "envs = np.array(list(zip(temperatures, pressures)))"
   ]
  },
  {
   "cell_type": "code",
   "execution_count": 45,
   "metadata": {},
   "outputs": [],
   "source": [
    "np.savetxt('test.txt',envs)"
   ]
  }
 ],
 "metadata": {
  "kernelspec": {
   "display_name": ".venv",
   "language": "python",
   "name": "python3"
  },
  "language_info": {
   "codemirror_mode": {
    "name": "ipython",
    "version": 3
   },
   "file_extension": ".py",
   "mimetype": "text/x-python",
   "name": "python",
   "nbconvert_exporter": "python",
   "pygments_lexer": "ipython3",
   "version": "3.12.3"
  }
 },
 "nbformat": 4,
 "nbformat_minor": 2
}
