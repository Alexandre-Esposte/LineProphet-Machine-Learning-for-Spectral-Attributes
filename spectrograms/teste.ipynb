{
 "cells": [
  {
   "cell_type": "code",
   "execution_count": 1,
   "metadata": {},
   "outputs": [],
   "source": [
    "from model_funcs import dataset\n",
    "from model_funcs import train_and_test\n",
    "from model_funcs import model\n",
    "import os\n",
    "from torch.utils.data import DataLoader\n",
    "import torch\n",
    "from torch import nn\n",
    "import matplotlib.pyplot as plt\n",
    "import numpy as np\n",
    "from torchvision import models\n",
    "from torchinfo import summary\n",
    "\n",
    "from model_funcs.model import ConvolutionalNet\n",
    "\n",
    "test = dataset.SpectraDataset('test')\n",
    "loader_test = DataLoader(test, batch_size= 1, pin_memory= True, shuffle=True)\n"
   ]
  },
  {
   "cell_type": "code",
   "execution_count": 2,
   "metadata": {},
   "outputs": [
    {
     "name": "stderr",
     "output_type": "stream",
     "text": [
      "/tmp/ipykernel_66960/774777495.py:1: FutureWarning: You are using `torch.load` with `weights_only=False` (the current default value), which uses the default pickle module implicitly. It is possible to construct malicious pickle data which will execute arbitrary code during unpickling (See https://github.com/pytorch/pytorch/blob/main/SECURITY.md#untrusted-models for more details). In a future release, the default value for `weights_only` will be flipped to `True`. This limits the functions that could be executed during unpickling. Arbitrary objects will no longer be allowed to be loaded via this mode unless they are explicitly allowlisted by the user via `torch.serialization.add_safe_globals`. We recommend you start setting `weights_only=True` for any use case where you don't have full control of the loaded file. Please open an issue on GitHub for any issues related to this experimental feature.\n",
      "  model = torch.load('models/convolutionalnet.pth')\n"
     ]
    }
   ],
   "source": [
    "model = torch.load('models/convolutionalnet.pth')"
   ]
  },
  {
   "cell_type": "code",
   "execution_count": 38,
   "metadata": {},
   "outputs": [
    {
     "name": "stdout",
     "output_type": "stream",
     "text": [
      "tensor([[[-109.9988, -109.9992, -109.9970,  ..., -109.9958, -109.9990,\n",
      "          -109.9982],\n",
      "         [-109.9987, -109.9993, -109.9975,  ..., -109.9965, -109.9990,\n",
      "          -109.9983],\n",
      "         [-109.9987, -109.9992, -109.9985,  ..., -109.9981, -109.9991,\n",
      "          -109.9985],\n",
      "         ...,\n",
      "         [-110.0000, -110.0000, -110.0000,  ..., -110.0000, -110.0000,\n",
      "          -110.0000],\n",
      "         [-110.0000, -110.0000, -110.0000,  ..., -110.0000, -110.0000,\n",
      "          -110.0000],\n",
      "         [-110.0000, -110.0000, -110.0000,  ..., -110.0000, -110.0000,\n",
      "          -110.0000]]])\n"
     ]
    }
   ],
   "source": [
    "X , env = test[int(np.random.uniform(0,200))]\n",
    "print(X)\n",
    "model.eval()\n",
    "with torch.no_grad():\n",
    "    pred = model(X.unsqueeze(0))"
   ]
  },
  {
   "cell_type": "code",
   "execution_count": 39,
   "metadata": {},
   "outputs": [
    {
     "data": {
      "text/plain": [
       "(tensor(-127.6991), tensor(-0.1801))"
      ]
     },
     "execution_count": 39,
     "metadata": {},
     "output_type": "execute_result"
    }
   ],
   "source": [
    "env[0] - pred[0][0],  env[1] - pred[0][1]"
   ]
  },
  {
   "cell_type": "code",
   "execution_count": 40,
   "metadata": {},
   "outputs": [
    {
     "data": {
      "text/plain": [
       "(tensor(256.2561), tensor(383.9552))"
      ]
     },
     "execution_count": 40,
     "metadata": {},
     "output_type": "execute_result"
    }
   ],
   "source": [
    "env[0] , pred[0][0]"
   ]
  },
  {
   "cell_type": "code",
   "execution_count": 41,
   "metadata": {},
   "outputs": [
    {
     "data": {
      "text/plain": [
       "(tensor(0.6512), tensor(0.8313))"
      ]
     },
     "execution_count": 41,
     "metadata": {},
     "output_type": "execute_result"
    }
   ],
   "source": [
    "env[1] , pred[0][1]"
   ]
  },
  {
   "cell_type": "code",
   "execution_count": null,
   "metadata": {},
   "outputs": [],
   "source": []
  }
 ],
 "metadata": {
  "kernelspec": {
   "display_name": ".venv",
   "language": "python",
   "name": "python3"
  },
  "language_info": {
   "codemirror_mode": {
    "name": "ipython",
    "version": 3
   },
   "file_extension": ".py",
   "mimetype": "text/x-python",
   "name": "python",
   "nbconvert_exporter": "python",
   "pygments_lexer": "ipython3",
   "version": "3.10.12"
  }
 },
 "nbformat": 4,
 "nbformat_minor": 2
}
